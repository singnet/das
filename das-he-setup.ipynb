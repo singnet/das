{
 "cells": [
  {
   "cell_type": "markdown",
   "id": "92f1b46e",
   "metadata": {},
   "source": [
    "# DAS Setup\n",
    "\n",
    "This notebook guides you through setting up a complete Distributed Atomspace (DAS) environment with all necessary components.\n"
   ]
  },
  {
   "cell_type": "markdown",
   "id": "98cc009f",
   "metadata": {},
   "source": [
    "## 1. Verify DAS CLI Installation\n",
    "\n",
    "After installling das-cli following the tutotial at its [repo](https://github.com/singnet/das-toolbox).\n",
    "\n",
    "Check that it is properly installed and view the current version.\n"
   ]
  },
  {
   "cell_type": "code",
   "execution_count": null,
   "id": "241313d0-8209-4f28-b039-b70967b8c473",
   "metadata": {},
   "outputs": [],
   "source": [
    "!das-cli --version"
   ]
  },
  {
   "cell_type": "markdown",
   "id": "17ea809d",
   "metadata": {},
   "source": [
    "## 2. Start Database Services\n",
    "\n",
    "Start database containers. These are the core storage components that DAS uses to persist the knowledge base and indexes.\n"
   ]
  },
  {
   "cell_type": "code",
   "execution_count": null,
   "id": "16e59bc5-4c11-4ee0-9d55-c2f02712acc7",
   "metadata": {},
   "outputs": [],
   "source": [
    "!das-cli db start"
   ]
  },
  {
   "cell_type": "markdown",
   "id": "f6d50f74",
   "metadata": {},
   "source": [
    "## 3. Download Sample Knowledge Base\n",
    "\n",
    "Download a sample MeTTa file containing animal expressions to populate the knowledge base.\n"
   ]
  },
  {
   "cell_type": "code",
   "execution_count": null,
   "id": "70626282-49d3-47d9-89d5-0d9b2504e096",
   "metadata": {},
   "outputs": [],
   "source": [
    "!curl https://raw.githubusercontent.com/singnet/das/refs/heads/master/src/tests/integration/cpp/data/animal_expressions.metta -o /tmp/animal_expressions.metta"
   ]
  },
  {
   "cell_type": "markdown",
   "id": "c7a27d23",
   "metadata": {},
   "source": [
    "## 4. Load Knowledge Base\n",
    "\n",
    "Parse and load the MeTTa file into the databases, importing atoms into DAS knowledge.\n"
   ]
  },
  {
   "cell_type": "code",
   "execution_count": null,
   "id": "20947374-bc0d-4a73-9d3c-f699f75a5925",
   "metadata": {},
   "outputs": [],
   "source": [
    "!das-cli metta load /tmp/animal_expressions.metta"
   ]
  },
  {
   "cell_type": "markdown",
   "id": "aaf43e49",
   "metadata": {},
   "source": [
    "## 5. Start Attention Broker\n",
    "\n",
    "Start the Attention Broker service. This component tracks atom importance values and updates them based on queries using context-specific Hebbian networks.\n"
   ]
  },
  {
   "cell_type": "code",
   "execution_count": null,
   "id": "2ddb8e58-e2b0-4ae3-8242-ba42e5c3b634",
   "metadata": {},
   "outputs": [],
   "source": [
    "!das-cli ab start"
   ]
  },
  {
   "cell_type": "markdown",
   "id": "fe881c53",
   "metadata": {},
   "source": [
    "## 6. Start Query Agent\n",
    "\n",
    "Start the Query Agent service that performs pattern matching queries against the knowledge base.\n"
   ]
  },
  {
   "cell_type": "code",
   "execution_count": null,
   "id": "c17f6d83-3f7f-4338-a70a-15129ad1a765",
   "metadata": {},
   "outputs": [],
   "source": [
    "!das-cli qa start"
   ]
  },
  {
   "cell_type": "markdown",
   "id": "3863e6a1",
   "metadata": {},
   "source": [
    "## 7. Start Evolution Agent\n",
    "\n",
    "Start the Evolution Agent service. This agent manages the long-term growth and maintenance of the knowledge base.\n"
   ]
  },
  {
   "cell_type": "code",
   "execution_count": null,
   "id": "70b9369a-df31-476d-b9b6-e96b5eaa10a1",
   "metadata": {},
   "outputs": [],
   "source": [
    "!das-cli evolution start --peer-hostname 0.0.0.0 --peer-port 40002"
   ]
  },
  {
   "cell_type": "markdown",
   "id": "f6068a20",
   "metadata": {},
   "source": [
    "## 8. Start Link Creation Agent\n",
    "\n",
    "Start the Link Creation Agent service. This agent performs pattern-matching queries and creates new links in the knowledge based on the results.\n"
   ]
  },
  {
   "cell_type": "code",
   "execution_count": null,
   "id": "0ce40842-adae-4d45-aae5-2c5b12367322",
   "metadata": {},
   "outputs": [],
   "source": [
    "!das-cli lca start --peer-hostname 0.0.0.0 --peer-port 40002"
   ]
  },
  {
   "cell_type": "markdown",
   "id": "b07ce447",
   "metadata": {},
   "source": [
    "## 9. Start Inference Agent\n",
    "\n",
    "Start the Inference Agent service. This agent performs reasoning, pattern matching, and inference operations on the knowledge base.\n"
   ]
  },
  {
   "cell_type": "code",
   "execution_count": null,
   "id": "63bc1962-64fe-4a2b-8c14-3d8fffc5188e",
   "metadata": {},
   "outputs": [],
   "source": [
    "!das-cli inference start --peer-hostname 0.0.0.0 --peer-port 40002"
   ]
  },
  {
   "cell_type": "markdown",
   "id": "389d1e66",
   "metadata": {},
   "source": [
    "## 11. Shutdown Services (Optional)\n",
    "\n",
    "Commands to stop all services in reverse order. These are commented out but can be used to cleanly shut down the entire DAS environment.\n"
   ]
  },
  {
   "cell_type": "code",
   "execution_count": null,
   "id": "090fa9cb-ca25-41c1-b614-5fb38bc46c91",
   "metadata": {},
   "outputs": [],
   "source": [
    "# !das-cli lca stop\n",
    "# !das-cli inference stop\n",
    "# !das-cli evolution stop\n",
    "# !das-cli qa stop\n",
    "# !das-cli ab stop\n",
    "# !das-cli db stop"
   ]
  }
 ],
 "metadata": {
  "kernelspec": {
   "display_name": "Python 3 (ipykernel)",
   "language": "python",
   "name": "python3"
  },
  "language_info": {
   "codemirror_mode": {
    "name": "ipython",
    "version": 3
   },
   "file_extension": ".py",
   "mimetype": "text/x-python",
   "name": "python",
   "nbconvert_exporter": "python",
   "pygments_lexer": "ipython3",
   "version": "3.10.18"
  }
 },
 "nbformat": 4,
 "nbformat_minor": 5
}
