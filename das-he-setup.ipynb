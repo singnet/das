{
 "cells": [
  {
   "cell_type": "markdown",
   "id": "92f1b46e",
   "metadata": {},
   "source": [
    "# DAS Setup\n",
    "\n",
    "This notebook guides you through setting up a complete Distributed Atomspace (DAS) environment with all necessary components.\n",
    "\n",
    "There's a command line tool `das-cli` to setup and configure DAS. It can be installed as a Debian package or used directly as a Python script (for non-Unix users). There's a complete documentation [here](https://github.com/singnet/das-toolbox) which includes installation procedures for multiples opereational systems."
   ]
  },
  {
   "cell_type": "markdown",
   "id": "a3603972-bcbf-48bd-83eb-75ef3096efe8",
   "metadata": {},
   "source": [
    "## 1. Verify DAS CLI Installation\n",
    "\n",
    "Check that it is properly installed and view the current version.\n"
   ]
  },
  {
   "cell_type": "code",
   "execution_count": 1,
   "id": "241313d0-8209-4f28-b039-b70967b8c473",
   "metadata": {},
   "outputs": [
    {
     "name": "stdout",
     "output_type": "stream",
     "text": [
      "das-cli 0.6.0-rc\n"
     ]
    }
   ],
   "source": [
    "!das-cli --version"
   ]
  },
  {
   "cell_type": "markdown",
   "id": "17ea809d",
   "metadata": {},
   "source": [
    "## 2. Start Database Services\n",
    "\n",
    "Start AtomDB containers. These are the core storage components that DAS uses to persist the knowledge base and indexes.\n"
   ]
  },
  {
   "cell_type": "code",
   "execution_count": 2,
   "id": "16e59bc5-4c11-4ee0-9d55-c2f02712acc7",
   "metadata": {},
   "outputs": [
    {
     "name": "stdout",
     "output_type": "stream",
     "text": [
      "Starting Redis service...\n",
      "\u001b[32mRedis has started successfully on port 40020 at localhost, operating under the server user arturgontijo.\u001b[0m\n",
      "Starting MORK service...\n",
      "\u001b[32mMORK has started successfully on port 8000 at localhost, operating under the server user arturgontijo.\u001b[0m\n",
      "Starting MongoDB service...\n",
      "\u001b[32mMongoDB has started successfully on port 40021 at localhost, operating under the server user arturgontijo.\u001b[0m\n"
     ]
    }
   ],
   "source": [
    "!das-cli db start"
   ]
  },
  {
   "cell_type": "markdown",
   "id": "f6d50f74",
   "metadata": {},
   "source": [
    "## 3. Download Sample Knowledge Base (Optional)\n",
    "\n",
    "You can load your own knowledge base or download this simple MeTTa file to populate the AtomDB. We use this knowledge base in other notebooks, so, if you are planning to use them as well, you should download this base.\n"
   ]
  },
  {
   "cell_type": "code",
   "execution_count": 3,
   "id": "70626282-49d3-47d9-89d5-0d9b2504e096",
   "metadata": {},
   "outputs": [
    {
     "name": "stdout",
     "output_type": "stream",
     "text": [
      "  % Total    % Received % Xferd  Average Speed   Time    Time     Time  Current\n",
      "                                 Dload  Upload   Total   Spent    Left  Speed\n",
      "100  2151  100  2151    0     0   8584      0 --:--:-- --:--:-- --:--:--  8604\n"
     ]
    }
   ],
   "source": [
    "!curl https://raw.githubusercontent.com/singnet/das/refs/heads/master/src/tests/integration/cpp/data/animal_expressions.metta -o /tmp/animal_expressions.metta"
   ]
  },
  {
   "cell_type": "markdown",
   "id": "c7a27d23",
   "metadata": {},
   "source": [
    "## 4. Load Knowledge Base\n",
    "\n",
    "Parse and load the MeTTa file into the databases, importing atoms into DAS knowledge.\n"
   ]
  },
  {
   "cell_type": "code",
   "execution_count": 4,
   "id": "20947374-bc0d-4a73-9d3c-f699f75a5925",
   "metadata": {},
   "outputs": [
    {
     "name": "stdout",
     "output_type": "stream",
     "text": [
      "\u001b[33mdas-cli-mongodb-40021 is running on port 40021\u001b[0m\n",
      "\u001b[33mdas-cli-redis-40020 is running on port 40020\u001b[0m\n",
      "\u001b[33mdas-cli-mork-8000 is running on port 8000\u001b[0m\n",
      "Loading metta file /tmp/animal_expressions.metta...\n",
      "Connecting to Redis at 0.0.0.0:40020\n",
      "Connecting to MongoDB at 0.0.0.0:40021\n",
      "Connecting to Mork at 0.0.0.0:8000\n",
      "Done.\n"
     ]
    }
   ],
   "source": [
    "!das-cli metta load /tmp/animal_expressions.metta"
   ]
  },
  {
   "cell_type": "markdown",
   "id": "aaf43e49",
   "metadata": {},
   "source": [
    "## 5. Start Attention Broker\n",
    "\n",
    "Start the Attention Broker service. This component tracks atom importance values and updates them based on queries using context-specific Hebbian networks.\n"
   ]
  },
  {
   "cell_type": "code",
   "execution_count": 5,
   "id": "2ddb8e58-e2b0-4ae3-8242-ba42e5c3b634",
   "metadata": {},
   "outputs": [
    {
     "name": "stdout",
     "output_type": "stream",
     "text": [
      "Starting Attention Broker service...\n",
      "\u001b[32mAttention Broker started on port 40001\u001b[0m\n"
     ]
    }
   ],
   "source": [
    "!das-cli ab start"
   ]
  },
  {
   "cell_type": "markdown",
   "id": "fe881c53",
   "metadata": {},
   "source": [
    "## 6. Start Query Agent\n",
    "\n",
    "Start the Query Agent service that performs pattern matching queries against the knowledge base.\n"
   ]
  },
  {
   "cell_type": "code",
   "execution_count": 6,
   "id": "c17f6d83-3f7f-4338-a70a-15129ad1a765",
   "metadata": {},
   "outputs": [
    {
     "name": "stdout",
     "output_type": "stream",
     "text": [
      "Starting Query Agent service...\n",
      "\u001b[32mQuery Agent started on port 40002\u001b[0m\n"
     ]
    }
   ],
   "source": [
    "!das-cli qa start"
   ]
  },
  {
   "cell_type": "markdown",
   "id": "3863e6a1",
   "metadata": {},
   "source": [
    "## 7. Start Context Broker\n",
    "\n",
    "Start the Context Broker service. This agent manages the Attention Broker contexts."
   ]
  },
  {
   "cell_type": "code",
   "execution_count": 7,
   "id": "ebe4d4f7-0f3e-4bd3-b05c-6ac2a4e721ee",
   "metadata": {},
   "outputs": [
    {
     "name": "stdout",
     "output_type": "stream",
     "text": [
      "Starting Context Broker service...\n",
      "\u001b[32mContext Broker started on port 40006\u001b[0m\n"
     ]
    }
   ],
   "source": [
    "!das-cli context start --peer-hostname 0.0.0.0 --peer-port 40002"
   ]
  },
  {
   "cell_type": "markdown",
   "id": "ecb0e640-7f0e-4a2d-bb46-9101532d3e0e",
   "metadata": {},
   "source": [
    "## 8. Start Evolution Agent\n",
    "\n",
    "Start the Evolution Agent service. This agent manages the execution of a special type of query which runs an evolutionary algorithm before delivering results to the caller.\n"
   ]
  },
  {
   "cell_type": "code",
   "execution_count": 8,
   "id": "70b9369a-df31-476d-b9b6-e96b5eaa10a1",
   "metadata": {},
   "outputs": [
    {
     "name": "stdout",
     "output_type": "stream",
     "text": [
      "Starting Evolution Agent service...\n",
      "\u001b[32mEvolution Agent started on port 40005\u001b[0m\n"
     ]
    }
   ],
   "source": [
    "!das-cli evolution start --peer-hostname 0.0.0.0 --peer-port 40002"
   ]
  },
  {
   "cell_type": "markdown",
   "id": "f6068a20",
   "metadata": {},
   "source": [
    "## 9. Start Link Creation Agent\n",
    "\n",
    "Start the Link Creation Agent service. This agent creates new links based on query results."
   ]
  },
  {
   "cell_type": "code",
   "execution_count": 9,
   "id": "0ce40842-adae-4d45-aae5-2c5b12367322",
   "metadata": {},
   "outputs": [
    {
     "name": "stdout",
     "output_type": "stream",
     "text": [
      "Starting Link Creation Agent service...\n",
      "\u001b[32mLink Creation Agent started listening on the ports 40003\u001b[0m\n"
     ]
    }
   ],
   "source": [
    "!das-cli lca start --peer-hostname 0.0.0.0 --peer-port 40002"
   ]
  },
  {
   "cell_type": "markdown",
   "id": "b07ce447",
   "metadata": {},
   "source": [
    "## 10. Start Inference Agent\n",
    "\n",
    "Start the Inference Agent service. This agent executes inference requests on the knowledge base."
   ]
  },
  {
   "cell_type": "code",
   "execution_count": 10,
   "id": "63bc1962-64fe-4a2b-8c14-3d8fffc5188e",
   "metadata": {},
   "outputs": [
    {
     "name": "stdout",
     "output_type": "stream",
     "text": [
      "Starting Inference Agent service...\n",
      "\u001b[32mInference Agent started listening on the ports 40004\u001b[0m\n"
     ]
    }
   ],
   "source": [
    "!das-cli inference start --peer-hostname 0.0.0.0 --peer-port 40002"
   ]
  },
  {
   "cell_type": "markdown",
   "id": "389d1e66",
   "metadata": {},
   "source": [
    "## 11. Shutdown Services (Optional)\n",
    "\n",
    "Commands to stop all services in reverse order. These are commented out but can be used to cleanly shut down the entire DAS environment.\n"
   ]
  },
  {
   "cell_type": "code",
   "execution_count": 1,
   "id": "090fa9cb-ca25-41c1-b614-5fb38bc46c91",
   "metadata": {},
   "outputs": [],
   "source": [
    "# !das-cli lca stop\n",
    "# !das-cli inference stop\n",
    "# !das-cli evolution stop\n",
    "# !das-cli qa stop\n",
    "# !das-cli context stop\n",
    "# !das-cli ab stop\n",
    "# !das-cli db stop"
   ]
  }
 ],
 "metadata": {
  "kernelspec": {
   "display_name": "Python 3 (ipykernel)",
   "language": "python",
   "name": "python3"
  },
  "language_info": {
   "codemirror_mode": {
    "name": "ipython",
    "version": 3
   },
   "file_extension": ".py",
   "mimetype": "text/x-python",
   "name": "python",
   "nbconvert_exporter": "python",
   "pygments_lexer": "ipython3",
   "version": "3.10.18"
  }
 },
 "nbformat": 4,
 "nbformat_minor": 5
}
