{
 "cells": [
  {
   "cell_type": "markdown",
   "id": "37ea0159",
   "metadata": {},
   "source": [
    "# DAS Evolution Queries - Sentences Dataset\n",
    "\n",
    "This notebook demonstrates how to use Evolution-based queries with Hyperon MeTTa and DAS.\n",
    "\n",
    "Evolution queries are like regular pattern-matching queries in the sense that it expects the same kind of input (a query) and delivers the same kind of result (an iterator to query answers). They are different because Evolution queries goes through an evolutionary algorithm before delivering the answers while regular queries are simply executed in the query engine. Here's how it works.\n",
    "\n",
    "1. The caller submit a query to the evolution agent. In addition to the query itself, the caller also provide a fitness function, which can evaluate the quality of query answers giving a score in \\[0, 1\\], and a secondary query which we call the \"correlation query\", whose meaning will be explained below.\n",
    "2. The evolution agent will execute the query in the query angine and will use the first N results (N is another parameter of the evolution query request) to build a population of query answers.\n",
    "3. All the N query answers in the population are evaluated using the passed fitness function.\n",
    "4. The best M individuals (i.e. the M query answers with the largest fitness values) are selected to sample the next generation of the population (actually, the selection is made with a mix of just picking up the best individuals and tournament selection with the balance between them being another evolution parameter)\n",
    "5. To sample the population generation, first we use the \"correlation query\" passed as evolution parameter. For each of the selected query answers, we use elements from the answer (variable values or the rewritten links themselves) to customize the correlation query. Them this query is executed in the query engine and its results are used to change the Hebbian Network related to the given context in the AttentionBroker and to stimulate some of the elements in the query answer. This stimulation will also trigger activation spreading in the Hebbian Network (all this stimulation and activation spreading happens ONLY IN ATTENTION BROKER, whi9ch keeps separate Hebbian Networks for different contexts; importance updatind DOESN'T affect the atomspace itself).\n",
    "6. After the importance update in the context, the main query is executed once again and the next generation of the population is sampled by getting the best N individuals (query asnwers) as we did initially.\n",
    "7. Evolution query agent repeats steps 2-6 until a stop criteria (another evolution parameter) is met. While new generations are sampled and evaluated (using the passed fitness function), every time the agent sees a query answer which is better (i.e. has a larger fitness value) than the last one it delivered to the caller, this new best solution is instantly delivered (it doesn't matter if it'in the first generation, second or whatever). This way, in addition to the stop criteria passed as evolution parameter, the caller can also just interrupt the evolution process by aborting the query if it already found a solution which is considered good enough by the caller."
   ]
  },
  {
   "cell_type": "markdown",
   "id": "1e8841c9",
   "metadata": {},
   "source": [
    "## Load Sentences Dataset (Optional)\n",
    "\n",
    "If not already loaded, use das-cli to load a sentences dataset containing 100K sentences with 10 words each (words starting with letters a-e).\n"
   ]
  },
  {
   "cell_type": "code",
   "execution_count": 1,
   "id": "9e27beec-e2ad-4533-abb6-e2496126a88c",
   "metadata": {},
   "outputs": [
    {
     "name": "stdout",
     "output_type": "stream",
     "text": [
      "\u001b[33mdas-cli-mongodb-40021 is running on port 40021\u001b[0m\n",
      "\u001b[33mdas-cli-redis-40020 is running on port 40020\u001b[0m\n",
      "Loading metta file /tmp/100K_sentences_10_words_a-e.metta...\n",
      "Done.\n"
     ]
    }
   ],
   "source": [
    "!das-cli metta load /tmp/100K_sentences_10_words_a-e.metta"
   ]
  },
  {
   "cell_type": "markdown",
   "id": "05c4759e",
   "metadata": {},
   "source": [
    "## Setup\n",
    "\n",
    "Initialize `hyperon` MeTTa environment and create a helper function to run MeTTa programs.\n"
   ]
  },
  {
   "cell_type": "code",
   "execution_count": 2,
   "id": "e8128ba3-3824-46ed-b40e-e4ceac7e9e56",
   "metadata": {},
   "outputs": [],
   "source": [
    "import hyperon\n",
    "\n",
    "metta = hyperon.MeTTa()\n",
    "def run(program='!(+ 1 2)'):\n",
    "    for result in metta.run(program):\n",
    "        for child in result:\n",
    "            print(child)"
   ]
  },
  {
   "cell_type": "markdown",
   "id": "27a4d681",
   "metadata": {},
   "source": [
    "## Import DAS Module\n",
    "\n",
    "Import the DAS module into the MeTTa environment.\n"
   ]
  },
  {
   "cell_type": "code",
   "execution_count": 3,
   "id": "33b039a2-2953-4b9b-a167-2fb550e85b6e",
   "metadata": {},
   "outputs": [
    {
     "name": "stdout",
     "output_type": "stream",
     "text": [
      "()\n"
     ]
    }
   ],
   "source": [
    "run('!(import! &self das)')"
   ]
  },
  {
   "cell_type": "markdown",
   "id": "b3e79f96",
   "metadata": {},
   "source": [
    "## Connect to DAS\n",
    "\n",
    "Bind a DAS connection to `&das` space. The first parameter specifies a client's host and port range (47000-47999) and the second must be a known peer address (eg. Query Agent at localhost:40002).\n"
   ]
  },
  {
   "cell_type": "code",
   "execution_count": 4,
   "id": "0d9e3f76-19b9-4f7e-b8bd-9af8313b63d6",
   "metadata": {},
   "outputs": [
    {
     "name": "stdout",
     "output_type": "stream",
     "text": [
      "()\n"
     ]
    }
   ],
   "source": [
    "run('!(bind! &das (new-das! (localhost:47000-47999) (localhost:40002)))')"
   ]
  },
  {
   "cell_type": "markdown",
   "id": "95ebb8b5",
   "metadata": {},
   "source": [
    "## Simple Query: Find Words in Sentence\n",
    "\n",
    "Find all words contained in a specific sentence. This is a basic pattern match to verify the dataset is loaded.\n"
   ]
  },
  {
   "cell_type": "code",
   "execution_count": 5,
   "id": "330025dc-82df-4de6-8cb7-121f21d6678b",
   "metadata": {},
   "outputs": [
    {
     "name": "stdout",
     "output_type": "stream",
     "text": [
      "\"eba\"\n",
      "\"dcb\"\n",
      "\"cad\"\n",
      "\"ede\"\n",
      "\"bca\"\n",
      "\"ced\"\n",
      "\"bce\"\n",
      "\"bbb\"\n",
      "\"ecc\"\n"
     ]
    }
   ],
   "source": [
    "run('!(match &das (Contains (Sentence \"bce ecc dcb ced bbb bca bce cad eba ede\") (Word $W)) $W)')"
   ]
  },
  {
   "cell_type": "markdown",
   "id": "11111950",
   "metadata": {},
   "source": [
    "## Define Helper Functions and Evolution Parameters\n",
    "\n",
    "Define utility functions for text analysis:\n",
    "- **String operations**: length calculation, character counting, space removal\n",
    "- **Fitness function (ff)**: Calculates the frequency of a letter in a sentence\n",
    "- **Query definition**: Pattern to search for sentences containing the word \"bbb\"\n",
    "- **Correlation parameters**: Define how evolution should correlate results across generations\n"
   ]
  },
  {
   "cell_type": "code",
   "execution_count": 6,
   "id": "4dbb439c-c98c-414a-a897-a5f089c7fe94",
   "metadata": {},
   "outputs": [],
   "source": [
    "run('''\n",
    "(= (str-length $s) (* ((py-dot \"\" len) $s) 1.0))\n",
    "(= (count-letters $s $c) (* ((py-dot $s count) $c) 1.0))\n",
    "(= (remove-spaces $s) ((py-dot $s replace) \" \" \"\"))\n",
    "(= (prep-sentence $s) (remove-spaces (index-atom $s 1)))\n",
    "(= \n",
    "  (ff $s $c) \n",
    "  (/ \n",
    "    (count-letters (prep-sentence $s) $c) \n",
    "    (str-length (prep-sentence $s))\n",
    "  )\n",
    ")\n",
    "\n",
    "(= \n",
    "  (query) \n",
    "  (or \n",
    "    (Contains $sentence1 (Word \"bbb\")) \n",
    "    (Contains $sentence1 (Word \"bbb\"))\n",
    "  )\n",
    ")\n",
    "\n",
    "(=\n",
    "  (correlation-queries)\n",
    "  (\n",
    "    (Contains $sentence1 $word1)\n",
    "  )\n",
    ")\n",
    "\n",
    "(=\n",
    "  (correlation-replacements)\n",
    "  (\n",
    "    (sentence1 sentence1)\n",
    "  )\n",
    ")\n",
    "\n",
    "(=\n",
    "  (correlation-mappings)\n",
    "  (\n",
    "    (sentence1 word1)\n",
    "  )\n",
    ")\n",
    "''')"
   ]
  },
  {
   "cell_type": "markdown",
   "id": "f5bd9290",
   "metadata": {},
   "source": [
    "## Check Current Evolution Parameters\n",
    "\n",
    "Display the current DAS evolution parameters to see default settings.\n"
   ]
  },
  {
   "cell_type": "code",
   "execution_count": 7,
   "id": "f36d7de1-3fc3-4b0b-b732-2254739ef358",
   "metadata": {},
   "outputs": [
    {
     "name": "stdout",
     "output_type": "stream",
     "text": [
      "()\n",
      "DAS Params:\n",
      "'attention_update_flag': Bool(false)\n",
      "'count_flag': Bool(false)\n",
      "'elitism_rate': Double(0.08)\n",
      "'enforce_cache_recreation': Bool(false)\n",
      "'initial_rent_rate': Double(0.1)\n",
      "'initial_spreading_rate_lowerbound': Double(0.9)\n",
      "'initial_spreading_rate_upperbound': Double(0.9)\n",
      "'max_answers': UnsignedInt(1000)\n",
      "'max_bundle_size': UnsignedInt(1000)\n",
      "'max_generations': UnsignedInt(10)\n",
      "'populate_metta_mapping': Bool(true)\n",
      "'population_size': UnsignedInt(50)\n",
      "'positive_importance_flag': Bool(false)\n",
      "'selection_rate': Double(0.1)\n",
      "'total_attention_tokens': UnsignedInt(100000)\n",
      "'unique_assignment_flag': Bool(true)\n",
      "'use_cache': Bool(true)\n",
      "'use_metta_as_query_tokens': Bool(true)\n"
     ]
    }
   ],
   "source": [
    "run('!(das-get-params!)')"
   ]
  },
  {
   "cell_type": "markdown",
   "id": "61a2c52c",
   "metadata": {},
   "source": [
    "## Set Maximum Generations\n",
    "\n",
    "Configure the evolution to run for 5 generations only. Each generation refines the search based on correlation analysis.\n"
   ]
  },
  {
   "cell_type": "code",
   "execution_count": 8,
   "id": "01cfd5bb-af56-436c-a4ba-93d31ae9d27a",
   "metadata": {},
   "outputs": [
    {
     "name": "stdout",
     "output_type": "stream",
     "text": [
      "()\n",
      "DAS Param Updated: 'max_generations': UnsignedInt(5)\n"
     ]
    }
   ],
   "source": [
    "run('!(das-set-param! (max_generations 5))')"
   ]
  },
  {
   "cell_type": "markdown",
   "id": "b6e246b3",
   "metadata": {},
   "source": [
    "## Run Evolution Query\n",
    "\n",
    "Execute an evolution-based query that:\n",
    "1. Searches for sentences containing \"bbb\"\n",
    "2. Analyzes the frequency of letter \"c\" in matching sentences\n",
    "3. Evolves over 5 generations to find sentences with optimal \"c\" frequency\n",
    "4. Uses correlation mappings to refine results across generations\n"
   ]
  },
  {
   "cell_type": "code",
   "execution_count": 9,
   "id": "9c0edf63-f66d-4f50-8044-91423c27ca19",
   "metadata": {},
   "outputs": [
    {
     "name": "stdout",
     "output_type": "stream",
     "text": [
      "(Sentence \"bbb eae acb abd dad aba eea bee dde dba\")\n",
      "(Sentence \"deb dea eca ada bbe ddb bbb dbd bac abe\")\n",
      "(Sentence \"dcc ebe aaa bbb aeb bae dda bbc ada eaa\")\n",
      "(Sentence \"bab cbd abb bba aad edc dbd ebd bbb cbe\")\n",
      "(Sentence \"eda bca bda ceb bbc bbb eaa ade beb daa\")\n",
      "(Sentence \"ade cad aed ebb bdb cec bbb bab dad dad\")\n",
      "(Sentence \"bbb aba cec bdb cae dab bdb aad ddd bdd\")\n",
      "(Sentence \"aba baa eeb bbb eea bcb bee dee eca ece\")\n",
      "(Sentence \"cec adc bbb bad aed ebb ade bae eeb eae\")\n",
      "(Sentence \"baa bbc bbb edd cad dba aee eda ceb eae\")\n",
      "(Sentence \"cee acd bbb dee add aae dee ede bcc bad\")\n",
      "(Sentence \"ade dce bba ded edb ecd bbc bee bec bbb\")\n",
      "(Sentence \"dda eeb aeb bee bab edc bbb ced bba ccb\")\n",
      "(Sentence \"edb eeb dda bda aca bbb eca dec ebd aca\")\n",
      "(Sentence \"deb eaa cad dea bbb eae eec aca ddd bcd\")\n",
      "(Sentence \"bbb aea dba bee cab cde cbe eca aeb aab\")\n",
      "(Sentence \"bbe bae bbb ddd cdb bbc eac daa dbb bcc\")\n",
      "(Sentence \"bdd bab ace cda add acc bbb dae dbc bbd\")\n",
      "(Sentence \"bbb daa dea dda eae dcb bbb dcb aac bcc\")\n",
      "(Sentence \"dac bdd bbb cba ecd ebe cac aba dab adb\")\n",
      "(Sentence \"acd bbe eda bba bbb eae cec deb bad cec\")\n",
      "(Sentence \"beb bbb dcc dab bbe bed ada cad bed cce\")\n",
      "(Sentence \"adb abb bbb ede ccd ccd ded acd dad baa\")\n",
      "(Sentence \"ebe edb cec aee bdd edb dbc bbb dae cac\")\n",
      "(Sentence \"cdc aca aab aeb ace dad bbb abb dac bbd\")\n",
      "(Sentence \"aac cde bbb aaa ecd bcc bee eaa eab cda\")\n",
      "(Sentence \"ace bbb daa cbe ddc dac eab bea cec eae\")\n",
      "(Sentence \"aee eec dce cdd bca cbd ddd cae bbb abd\")\n",
      "(Sentence \"aec ecc ccb aad bcd add eaa eaa ede bbb\")\n",
      "(Sentence \"cdd cae eec eca bbb cbe dbe bbe bbe eac\")\n",
      "(Sentence \"bdc bed cbc cba bbb cab aaa bcb bde ebd\")\n",
      "(Sentence \"cec dbe add cbc eda eab aba ead cac bbb\")\n",
      "(Sentence \"adc bee eda eca abb cce ceb cec bae bbb\")\n",
      "(Sentence \"bbc ddb dad ddd dac acb bbb aac bae ccc\")\n",
      "(Sentence \"bbb dce aae aac edc eba ccd ecb aeb bca\")\n",
      "(Sentence \"aac cbd cee dca eac eca bbb aed edc bea\")\n",
      "(Sentence \"bac cbc ead dda cce cdc adb bbb eaa dab\")\n",
      "(Sentence \"bbb dae aae cda cbc acd bce acb eac bde\")\n",
      "(Sentence \"cba dae cea bbb bee aae ddb adc cdc ecc\")\n",
      "(Sentence \"eea ccb aba ebc bce cad bbb dcd cbd eea\")\n",
      "(Sentence \"ccb bea adb aba bbb cee baa aba cec ccb\")\n",
      "(Sentence \"ccd bcd ebd cbd eca eae bbb bbd aec dbc\")\n",
      "(Sentence \"ddb edc bdc bbb cee ddb eca ccb cbd bbe\")\n",
      "(Sentence \"cbd beb eea baa ead bbc bcc bbb bca cdc\")\n",
      "(Sentence \"aea dcd cba bbb cdc ade cbd ceb cce bbe\")\n",
      "(Sentence \"cbc acc cad eec aeb add bbb aed ccd edb\")\n",
      "(Sentence \"bdc cdb cdc ccd bbb bed ced dde dde bca\")\n",
      "(Sentence \"aeb ccc ccd bda bbb eea cbb bae dec bbc\")\n",
      "(Sentence \"bdb cac aca ecd edc cce ede abc bbb cda\")\n",
      "(Sentence \"edc ded bdc bcc cbc cdb dea aba bbb cec\")\n",
      "(Sentence \"ebc ccd bbc dab bbb ecc cdc dbe dca ddd\")\n",
      "(Sentence \"aba cdc eeb ebc cba bbb ccc aaa cce ade\")\n",
      "(Sentence \"ccb dce cce bbb dcd dca dba eea aaa cbc\")\n",
      "(Sentence \"ddd cdc bad bbb cdb bae ace ccb ccd cab\")\n",
      "(Sentence \"aab acb aed eca dcc ebc cba cce bbb ccd\")\n",
      "(Sentence \"bdd cec acb eed acc acb acc bbb caa bec\")\n",
      "(Sentence \"cca ddc cbd ace bbe bad cdd ccb bbb dcc\")\n",
      "(Sentence \"acc cdb ccc cda acc bac edb ceb dab bbb\")\n"
     ]
    }
   ],
   "source": [
    "run('''\n",
    "!(match \n",
    "  &das \n",
    "  (\n",
    "    EVOLUTION \n",
    "    (!(query) !(correlation-queries) !(correlation-replacements) !(correlation-mappings))\n",
    "    ((ff $sentence1 \"c\")) \n",
    "  ) \n",
    "  $sentence1\n",
    ")\n",
    "''')"
   ]
  },
  {
   "cell_type": "markdown",
   "id": "eef3ac14",
   "metadata": {},
   "source": [
    "## Test Fitness Function - Example 1\n",
    "\n",
    "Calculate the frequency of letter \"c\" in a sample sentence to verify the fitness function works correctly.\n"
   ]
  },
  {
   "cell_type": "code",
   "execution_count": 10,
   "id": "8bb0164e-5e87-4240-b8e4-031b8bddc9f4",
   "metadata": {},
   "outputs": [
    {
     "name": "stdout",
     "output_type": "stream",
     "text": [
      "0.36666666666666664\n"
     ]
    }
   ],
   "source": [
    "run('!(ff (Sentence \"acc cdb ccc cda acc bac edb ceb dab bbb\") \"c\")')"
   ]
  },
  {
   "cell_type": "markdown",
   "id": "5965e3cd",
   "metadata": {},
   "source": [
    "## Test Fitness Function - Example 2\n",
    "\n",
    "Calculate the frequency of letter \"c\" in another sample sentence for comparison.\n"
   ]
  },
  {
   "cell_type": "code",
   "execution_count": 11,
   "id": "9fd8d54f-b384-413a-ab4a-6a54f3329fb7",
   "metadata": {},
   "outputs": [
    {
     "name": "stdout",
     "output_type": "stream",
     "text": [
      "0.3333333333333333\n"
     ]
    }
   ],
   "source": [
    "run('!(ff (Sentence \"cca ddc cbd ace bbe bad cdd ccb bbb dcc\") \"c\")')"
   ]
  },
  {
   "cell_type": "code",
   "execution_count": null,
   "id": "74120a85-eb31-4b62-b8f1-aef52a24a9e7",
   "metadata": {},
   "outputs": [],
   "source": []
  }
 ],
 "metadata": {
  "kernelspec": {
   "display_name": "Python 3 (ipykernel)",
   "language": "python",
   "name": "python3"
  },
  "language_info": {
   "codemirror_mode": {
    "name": "ipython",
    "version": 3
   },
   "file_extension": ".py",
   "mimetype": "text/x-python",
   "name": "python",
   "nbconvert_exporter": "python",
   "pygments_lexer": "ipython3",
   "version": "3.12.4"
  }
 },
 "nbformat": 4,
 "nbformat_minor": 5
}
