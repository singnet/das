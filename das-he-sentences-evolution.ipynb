{
 "cells": [
  {
   "cell_type": "markdown",
   "id": "37ea0159",
   "metadata": {},
   "source": [
    "# DAS Evolution Queries - Sentences Dataset\n",
    "\n",
    "This notebook demonstrates how to use Evolution-based queries with Hyperon MeTTa and DAS. Evolution queries use correlation analysis to find patterns across multiple generations of results.\n"
   ]
  },
  {
   "cell_type": "markdown",
   "id": "1e8841c9",
   "metadata": {},
   "source": [
    "## Load Sentences Dataset (Optional)\n",
    "\n",
    "If not already loaded, use das-cli to load a sentences dataset containing 100K sentences with 10 words each (words starting with letters a-e).\n"
   ]
  },
  {
   "cell_type": "code",
   "execution_count": null,
   "id": "9e27beec-e2ad-4533-abb6-e2496126a88c",
   "metadata": {},
   "outputs": [],
   "source": [
    "# !das-cli metta load /tmp/100K_sentences_10_words_a-e.metta"
   ]
  },
  {
   "cell_type": "markdown",
   "id": "05c4759e",
   "metadata": {},
   "source": [
    "## Setup\n",
    "\n",
    "Initialize `hyperon` MeTTa environment and create a helper function to run MeTTa programs.\n"
   ]
  },
  {
   "cell_type": "code",
   "execution_count": null,
   "id": "e8128ba3-3824-46ed-b40e-e4ceac7e9e56",
   "metadata": {},
   "outputs": [],
   "source": [
    "import hyperon\n",
    "\n",
    "metta = hyperon.MeTTa()\n",
    "def run(program='!(+ 1 2)'):\n",
    "    for result in metta.run(program):\n",
    "        for child in result:\n",
    "            print(child)"
   ]
  },
  {
   "cell_type": "markdown",
   "id": "27a4d681",
   "metadata": {},
   "source": [
    "## Import DAS Module\n",
    "\n",
    "Import the DAS module into the MeTTa environment.\n"
   ]
  },
  {
   "cell_type": "code",
   "execution_count": null,
   "id": "33b039a2-2953-4b9b-a167-2fb550e85b6e",
   "metadata": {},
   "outputs": [],
   "source": [
    "run('!(import! &self das)')"
   ]
  },
  {
   "cell_type": "markdown",
   "id": "b3e79f96",
   "metadata": {},
   "source": [
    "## Connect to DAS\n",
    "\n",
    "Bind a DAS connection to `&das` space. The first parameter specifies a client's host and port range (47000-47999) and the second must be a known peer address (eg. Query Agent at localhost:40002).\n"
   ]
  },
  {
   "cell_type": "code",
   "execution_count": null,
   "id": "0d9e3f76-19b9-4f7e-b8bd-9af8313b63d6",
   "metadata": {},
   "outputs": [],
   "source": [
    "run('!(bind! &das (new-das! (localhost:47000-47999) (localhost:40002)))')"
   ]
  },
  {
   "cell_type": "markdown",
   "id": "95ebb8b5",
   "metadata": {},
   "source": [
    "## Simple Query: Find Words in Sentence\n",
    "\n",
    "Find all words contained in a specific sentence. This is a basic pattern match to verify the dataset is loaded.\n"
   ]
  },
  {
   "cell_type": "code",
   "execution_count": null,
   "id": "330025dc-82df-4de6-8cb7-121f21d6678b",
   "metadata": {},
   "outputs": [],
   "source": [
    "run('!(match &das (Contains (Sentence \"bce ecc dcb ced bbb bca bce cad eba ede\") $W) $W)')"
   ]
  },
  {
   "cell_type": "markdown",
   "id": "11111950",
   "metadata": {},
   "source": [
    "## Define Helper Functions and Evolution Parameters\n",
    "\n",
    "Define utility functions for text analysis:\n",
    "- **String operations**: length calculation, character counting, space removal\n",
    "- **Fitness function (ff)**: Calculates the frequency of a letter in a sentence\n",
    "- **Query definition**: Pattern to search for sentences containing the word \"bbb\"\n",
    "- **Correlation parameters**: Define how evolution should correlate results across generations\n"
   ]
  },
  {
   "cell_type": "code",
   "execution_count": null,
   "id": "4dbb439c-c98c-414a-a897-a5f089c7fe94",
   "metadata": {},
   "outputs": [],
   "source": [
    "run('''\n",
    "(= (str-length $s) (* ((py-dot \"\" len) $s) 1.0))\n",
    "(= (count-letters $s $c) (* ((py-dot $s count) $c) 1.0))\n",
    "(= (remove-spaces $s) ((py-dot $s replace) \" \" \"\"))\n",
    "(= (prep-sentence $s) (remove-spaces (index-atom $s 1)))\n",
    "(= \n",
    "  (ff $s $c) \n",
    "  (/ \n",
    "    (count-letters (prep-sentence $s) $c) \n",
    "    (str-length (prep-sentence $s))\n",
    "  )\n",
    ")\n",
    "\n",
    "(= \n",
    "  (query) \n",
    "  (or \n",
    "    (Contains $sentence1 (Word \"bbb\")) \n",
    "    (Contains $sentence1 (Word \"bbb\"))\n",
    "  )\n",
    ")\n",
    "\n",
    "(=\n",
    "  (correlation-queries)\n",
    "  (\n",
    "    (Contains $sentence1 $word1)\n",
    "  )\n",
    ")\n",
    "\n",
    "(=\n",
    "  (correlation-replacements)\n",
    "  (\n",
    "    (sentence1 sentence1)\n",
    "  )\n",
    ")\n",
    "\n",
    "(=\n",
    "  (correlation-mappings)\n",
    "  (\n",
    "    (sentence1 word1)\n",
    "  )\n",
    ")\n",
    "''')"
   ]
  },
  {
   "cell_type": "markdown",
   "id": "f5bd9290",
   "metadata": {},
   "source": [
    "## Check Current Evolution Parameters\n",
    "\n",
    "Display the current DAS evolution parameters to see default settings.\n"
   ]
  },
  {
   "cell_type": "code",
   "execution_count": null,
   "id": "f36d7de1-3fc3-4b0b-b732-2254739ef358",
   "metadata": {},
   "outputs": [],
   "source": [
    "run('!(das-get-params!)')"
   ]
  },
  {
   "cell_type": "markdown",
   "id": "61a2c52c",
   "metadata": {},
   "source": [
    "## Set Maximum Generations\n",
    "\n",
    "Configure the evolution to run for 5 generations only. Each generation refines the search based on correlation analysis.\n"
   ]
  },
  {
   "cell_type": "code",
   "execution_count": null,
   "id": "01cfd5bb-af56-436c-a4ba-93d31ae9d27a",
   "metadata": {},
   "outputs": [],
   "source": [
    "run('!(das-set-param! (max_generations 5))')"
   ]
  },
  {
   "cell_type": "markdown",
   "id": "b6e246b3",
   "metadata": {},
   "source": [
    "## Run Evolution Query\n",
    "\n",
    "Execute an evolution-based query that:\n",
    "1. Searches for sentences containing \"bbb\"\n",
    "2. Analyzes the frequency of letter \"c\" in matching sentences\n",
    "3. Evolves over 5 generations to find sentences with optimal \"c\" frequency\n",
    "4. Uses correlation mappings to refine results across generations\n"
   ]
  },
  {
   "cell_type": "code",
   "execution_count": null,
   "id": "9c0edf63-f66d-4f50-8044-91423c27ca19",
   "metadata": {},
   "outputs": [],
   "source": [
    "run('''\n",
    "!(match \n",
    "  &das \n",
    "  (\n",
    "    EVOLUTION \n",
    "    (!(query) !(correlation-queries) !(correlation-replacements) !(correlation-mappings))\n",
    "    ((ff $sentence1 \"c\")) \n",
    "  ) \n",
    "  $sentence1\n",
    ")\n",
    "''')"
   ]
  },
  {
   "cell_type": "markdown",
   "id": "eef3ac14",
   "metadata": {},
   "source": [
    "## Test Fitness Function - Example 1\n",
    "\n",
    "Calculate the frequency of letter \"c\" in a sample sentence to verify the fitness function works correctly.\n"
   ]
  },
  {
   "cell_type": "code",
   "execution_count": null,
   "id": "8bb0164e-5e87-4240-b8e4-031b8bddc9f4",
   "metadata": {},
   "outputs": [],
   "source": [
    "run('!(ff (Sentence \"abc ada ccc eea bbb acc bcc cde cee cbd\") \"c\")')"
   ]
  },
  {
   "cell_type": "markdown",
   "id": "5965e3cd",
   "metadata": {},
   "source": [
    "## Test Fitness Function - Example 2\n",
    "\n",
    "Calculate the frequency of letter \"c\" in another sample sentence for comparison.\n"
   ]
  },
  {
   "cell_type": "code",
   "execution_count": null,
   "id": "9fd8d54f-b384-413a-ab4a-6a54f3329fb7",
   "metadata": {},
   "outputs": [],
   "source": [
    "run('!(ff (Sentence \"cbd edd bde dda cde eaa cac eec cad bbb\") \"c\")')"
   ]
  }
 ],
 "metadata": {
  "kernelspec": {
   "display_name": "Python 3 (ipykernel)",
   "language": "python",
   "name": "python3"
  },
  "language_info": {
   "codemirror_mode": {
    "name": "ipython",
    "version": 3
   },
   "file_extension": ".py",
   "mimetype": "text/x-python",
   "name": "python",
   "nbconvert_exporter": "python",
   "pygments_lexer": "ipython3",
   "version": "3.10.18"
  }
 },
 "nbformat": 4,
 "nbformat_minor": 5
}
