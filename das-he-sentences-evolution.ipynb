{
 "cells": [
  {
   "cell_type": "markdown",
   "id": "37ea0159",
   "metadata": {},
   "source": [
    "# DAS Evolution Queries - Sentences Dataset\n",
    "\n",
    "This notebook demonstrates how to use Evolution-based queries with Hyperon MeTTa and DAS.\n",
    "\n",
    "Evolution queries are like regular pattern-matching queries in the sense that it expects the same kind of input (a query) and delivers the same kind of result (an iterator to query answers). They are different because Evolution queries go through an evolutionary algorithm before delivering the answers while regular queries are simply executed in the query engine. Here's how it works.\n",
    "\n",
    "1. The caller submits a query to the evolution agent. In addition to the query itself, the caller also provides a fitness function, which can evaluate the quality of query answers giving a score in \\[0, 1\\], and a secondary query which we call the \"correlation query\", whose meaning will be explained below.\n",
    "2. The evolution agent will execute the query in the query engine and will use the first N results (N is another parameter of the evolution query request) to build a population of query answers.\n",
    "3. All the N query answers in the population are evaluated using the passed fitness function.\n",
    "4. The best M individuals (i.e. the M query answers with the largest fitness values) are selected to sample the next generation of the population (actually, the selection is made with a mix of just picking up the best individuals and tournament selection with the balance between them being another evolution parameter)\n",
    "5. To sample the population generation, first we use the \"correlation query\" passed as an evolution parameter. For each of the selected query answers, we use elements from the answer (variable values or the rewritten links themselves) to customize the correlation query. Then this query is executed in the query engine and its results are used to change the Hebbian Network related to the given context in the AttentionBroker and to stimulate some of the elements in the query answer. This stimulation will also trigger activation spreading in the Hebbian Network (all this stimulation and activation spreading happens ONLY IN ATTENTION BROKER, which keeps separate Hebbian Networks for different contexts; importance updating DOESN'T affect the atomspace itself).\n",
    "6. After the importance update in the context, the main query is executed once again and the next generation of the population is sampled by getting the best N individuals (query answers) as we did initially.\n",
    "7. Evolution query agent repeats steps 2-6 until a stop criteria (another evolution parameter) is met. While new generations are sampled and evaluated (using the passed fitness function), every time the agent sees a query answer which is better (i.e. has a larger fitness value) than the last one it delivered to the caller, this new best solution is instantly delivered (it doesn't matter if it is in the first generation, second or whatever). This way, in addition to the stop criteria passed as evolution parameter, the caller can also just interrupt the evolution process by aborting the query if it already found a solution which is considered good enough by the caller."
   ]
  },
  {
   "cell_type": "markdown",
   "id": "1e8841c9",
   "metadata": {},
   "source": [
    "## Load Sentences Dataset (Optional)\n",
    "\n",
    "If not already loaded, use das-cli to load a sentences dataset containing 100K sentences with 10 words each (words starting with letters a-e).\n"
   ]
  },
  {
   "cell_type": "code",
   "execution_count": 1,
   "id": "9e27beec-e2ad-4533-abb6-e2496126a88c",
   "metadata": {},
   "outputs": [
    {
     "name": "stdout",
     "output_type": "stream",
     "text": [
      "\u001b[33mdas-cli-mongodb-40021 is running on port 40021\u001b[0m\n",
      "\u001b[33mdas-cli-redis-40020 is running on port 40020\u001b[0m\n",
      "\u001b[33mdas-cli-mork-8000 is running on port 8000\u001b[0m\n",
      "Loading metta file /tmp/100K_sentences_10_words_a-e.metta...\n",
      "Connecting to Redis at 0.0.0.0:40020\n",
      "Connecting to MongoDB at 0.0.0.0:40021\n",
      "Connecting to Mork at 0.0.0.0:8000\n",
      "Done.\n"
     ]
    }
   ],
   "source": [
    "!das-cli metta load /tmp/100K_sentences_10_words_a-e.metta"
   ]
  },
  {
   "cell_type": "markdown",
   "id": "05c4759e",
   "metadata": {},
   "source": [
    "## Setup\n",
    "\n",
    "Initialize `hyperon` MeTTa environment and create a helper function to run MeTTa programs.\n"
   ]
  },
  {
   "cell_type": "code",
   "execution_count": 2,
   "id": "e8128ba3-3824-46ed-b40e-e4ceac7e9e56",
   "metadata": {},
   "outputs": [],
   "source": [
    "import hyperon\n",
    "\n",
    "metta = hyperon.MeTTa()\n",
    "def run(program='!(+ 1 2)'):\n",
    "    for result in metta.run(program):\n",
    "        for child in result:\n",
    "            print(child)"
   ]
  },
  {
   "cell_type": "markdown",
   "id": "27a4d681",
   "metadata": {},
   "source": [
    "## Import DAS Module\n",
    "\n",
    "Import the DAS module into the MeTTa environment.\n"
   ]
  },
  {
   "cell_type": "code",
   "execution_count": 3,
   "id": "33b039a2-2953-4b9b-a167-2fb550e85b6e",
   "metadata": {},
   "outputs": [
    {
     "name": "stdout",
     "output_type": "stream",
     "text": [
      "()\n"
     ]
    }
   ],
   "source": [
    "run('!(import! &self das)')"
   ]
  },
  {
   "cell_type": "markdown",
   "id": "b3e79f96",
   "metadata": {},
   "source": [
    "## Connect to DAS\n",
    "\n",
    "Bind a DAS connection to `&das` space. The first parameter specifies a client's host and port range (47000-47999) and the second must be a known peer address (eg. Query Agent at localhost:40002).\n"
   ]
  },
  {
   "cell_type": "code",
   "execution_count": 4,
   "id": "0d9e3f76-19b9-4f7e-b8bd-9af8313b63d6",
   "metadata": {},
   "outputs": [
    {
     "name": "stdout",
     "output_type": "stream",
     "text": [
      "()\n"
     ]
    }
   ],
   "source": [
    "run('!(bind! &das (new-das! (localhost:47000-47999) (localhost:40002)))')"
   ]
  },
  {
   "cell_type": "markdown",
   "id": "95ebb8b5",
   "metadata": {},
   "source": [
    "## Simple Query: Find Words in Sentence\n",
    "\n",
    "Find all words contained in a specific sentence. This is a basic pattern match to verify the dataset is loaded.\n"
   ]
  },
  {
   "cell_type": "code",
   "execution_count": 5,
   "id": "330025dc-82df-4de6-8cb7-121f21d6678b",
   "metadata": {},
   "outputs": [
    {
     "name": "stdout",
     "output_type": "stream",
     "text": [
      "\"bbb\"\n",
      "\"ecc\"\n",
      "\"dcb\"\n",
      "\"bca\"\n",
      "\"ede\"\n",
      "\"ced\"\n",
      "\"eba\"\n",
      "\"cad\"\n",
      "\"bce\"\n"
     ]
    }
   ],
   "source": [
    "run('!(match &das (Contains (Sentence \"bce ecc dcb ced bbb bca bce cad eba ede\") (Word $W)) $W)')"
   ]
  },
  {
   "cell_type": "markdown",
   "id": "11111950",
   "metadata": {},
   "source": [
    "## Define Evolution Query Parameters"
   ]
  },
  {
   "cell_type": "markdown",
   "id": "f8284dfc-1133-46b2-a5e9-737aac0f9540",
   "metadata": {},
   "source": [
    "- **Query definition**: Pattern to search for sentences containing the word \"bbb\""
   ]
  },
  {
   "cell_type": "code",
   "execution_count": 6,
   "id": "d6cd83e1-d500-4a8c-b443-75c768e361a7",
   "metadata": {},
   "outputs": [],
   "source": [
    "run('''(= (query) (Contains $sentence1 (Word \"bbb\")))''')"
   ]
  },
  {
   "cell_type": "markdown",
   "id": "771fe7bf-d4d2-4064-b6fb-e6220fc2f3b2",
   "metadata": {},
   "source": [
    "- **Fitness function (ff)**: Calculates the frequency of a letter in a sentence"
   ]
  },
  {
   "cell_type": "code",
   "execution_count": 7,
   "id": "4dbb439c-c98c-414a-a897-a5f089c7fe94",
   "metadata": {},
   "outputs": [],
   "source": [
    "run('''\n",
    "(= (str-length $s) (* ((py-dot \"\" len) $s) 1.0))\n",
    "(= (count-letters $s $c) (* ((py-dot $s count) $c) 1.0))\n",
    "(= (remove-spaces $s) ((py-dot $s replace) \" \" \"\"))\n",
    "(= (prep-sentence $s) (remove-spaces (index-atom $s 1)))\n",
    "(= \n",
    "  (ff $s $c) \n",
    "  (/ \n",
    "    (count-letters (prep-sentence $s) $c) \n",
    "    (str-length (prep-sentence $s))\n",
    "  )\n",
    ")\n",
    "''')"
   ]
  },
  {
   "cell_type": "markdown",
   "id": "964de5cb-baee-4ba8-8a9a-87ba4052dbe2",
   "metadata": {},
   "source": [
    "- **Correlation parameters**: Define how evolution should correlate results across generations"
   ]
  },
  {
   "cell_type": "code",
   "execution_count": 8,
   "id": "59fa9ef7-d2ac-4feb-a947-d2edc5fd33a6",
   "metadata": {},
   "outputs": [],
   "source": [
    "run('''\n",
    "; Template queries used to find correlated atoms in the knowledge base after the initial query.\n",
    "(=\n",
    "  (correlation-queries)\n",
    "  (\n",
    "    (Contains $placeholder1 $word1)\n",
    "  )\n",
    ")\n",
    "\n",
    "; Variable substitution maps that specify which correlation query variables should be replaced with actual values from the initial query answers.\n",
    "(=\n",
    "  (correlation-replacements)\n",
    "  (\n",
    "    (placeholder1 sentence1)\n",
    "  )\n",
    ")\n",
    "\n",
    "; Defines which elements from initial and correlation query answers should be linked together for attention allocation updates (Hebbian Network).\n",
    "(=\n",
    "  (correlation-mappings)\n",
    "  (\n",
    "    (sentence1 word1)\n",
    "  )\n",
    ")\n",
    "''')"
   ]
  },
  {
   "cell_type": "markdown",
   "id": "f5bd9290",
   "metadata": {},
   "source": [
    "## Check Current Evolution Parameters\n",
    "\n",
    "Display the current DAS evolution parameters to see default settings.\n"
   ]
  },
  {
   "cell_type": "code",
   "execution_count": 9,
   "id": "f36d7de1-3fc3-4b0b-b732-2254739ef358",
   "metadata": {},
   "outputs": [
    {
     "name": "stdout",
     "output_type": "stream",
     "text": [
      "()DAS Params:\n",
      "\n",
      "'attention_update_flag': Bool(false)\n",
      "'count_flag': Bool(false)\n",
      "'elitism_rate': Double(0.08)\n",
      "'enforce_cache_recreation': Bool(false)\n",
      "'initial_rent_rate': Double(0.25)\n",
      "'initial_spreading_rate_lowerbound': Double(0.5)\n",
      "'initial_spreading_rate_upperbound': Double(0.7)\n",
      "'max_answers': UnsignedInt(1000)\n",
      "'max_bundle_size': UnsignedInt(1000)\n",
      "'max_generations': UnsignedInt(10)\n",
      "'populate_metta_mapping': Bool(true)\n",
      "'population_size': UnsignedInt(50)\n",
      "'positive_importance_flag': Bool(false)\n",
      "'selection_rate': Double(0.1)\n",
      "'total_attention_tokens': UnsignedInt(100000)\n",
      "'unique_assignment_flag': Bool(true)\n",
      "'use_cache': Bool(true)\n",
      "'use_metta_as_query_tokens': Bool(true)\n"
     ]
    }
   ],
   "source": [
    "run('!(das-get-params!)')"
   ]
  },
  {
   "cell_type": "markdown",
   "id": "61a2c52c",
   "metadata": {},
   "source": [
    "## Set Maximum Generations\n",
    "\n",
    "Configure the evolution to run for 5 generations only. Each generation refines the search based on correlation analysis.\n"
   ]
  },
  {
   "cell_type": "code",
   "execution_count": 10,
   "id": "01cfd5bb-af56-436c-a4ba-93d31ae9d27a",
   "metadata": {},
   "outputs": [
    {
     "name": "stdout",
     "output_type": "stream",
     "text": [
      "()\n",
      "DAS Param Updated: 'max_generations': UnsignedInt(5)\n"
     ]
    }
   ],
   "source": [
    "run('!(das-set-param! (max_generations 5))')"
   ]
  },
  {
   "cell_type": "markdown",
   "id": "b6e246b3",
   "metadata": {},
   "source": [
    "## Run Evolution Query\n",
    "\n",
    "Execute an evolution-based query that:\n",
    "1. Searches for sentences containing \"bbb\"\n",
    "2. Analyzes the frequency of letter \"c\" in matching sentences\n",
    "3. Evolves over 5 generations to find sentences with optimal \"c\" frequency\n",
    "4. Uses correlation mappings to refine results across generations\n"
   ]
  },
  {
   "cell_type": "code",
   "execution_count": 11,
   "id": "9c0edf63-f66d-4f50-8044-91423c27ca19",
   "metadata": {},
   "outputs": [
    {
     "name": "stdout",
     "output_type": "stream",
     "text": [
      "(Sentence \"cdb bbb dbe eee edc eda bda dae dbb bdb\")\n",
      "(Sentence \"eae daa bdb bae abb cdb bbb dbc ebe eaa\")\n",
      "(Sentence \"eed aab cdd bed aed bbb aed bbd bab eca\")\n",
      "(Sentence \"bcd aed aba baa add dce dea bad bbb bba\")\n",
      "(Sentence \"cde eae bca dbd aee bbb ddd abd ebd ace\")\n",
      "(Sentence \"ddd bac eda bbc eaa ebb ead bbb aeb cdd\")\n",
      "(Sentence \"dbb dad aab cab cbb dae acd aae bbb aae\")\n",
      "(Sentence \"bec abc cba bda ebb aea bbb eba dbb bbd\")\n",
      "(Sentence \"ada eed eed abc abb acd aad dec aad bbb\")\n",
      "(Sentence \"bda eba bbb cce eee abe bda bec bde bbc\")\n",
      "(Sentence \"aeb cae dba bce cbe bdd bbb ebd eca ddb\")\n",
      "(Sentence \"aae abe bed ace aba dbe aee bbb dcc dbc\")\n",
      "(Sentence \"dee ebe aeb dec bbb cec daa ebd dec eec\")\n",
      "(Sentence \"edd cca eba ced bab ecc bbb bda eba eee\")\n",
      "(Sentence \"ebd eba cbc cbb acb aeb dbe bbb ddb ced\")\n",
      "(Sentence \"daa dae ece cbd ecb bbb edb dba add cec\")\n",
      "(Sentence \"cda adc bbb eed cba dac aaa aee ecb ebb\")\n",
      "(Sentence \"cac cda ced bee aeb bbb dde bbd bca eda\")\n",
      "(Sentence \"eda bbc dee bbe dab dcd dcc cdb bbb bab\")\n",
      "(Sentence \"aac dcb eec bed add bbb aad eac dad aca\")\n",
      "(Sentence \"ade cba bbb bec dce bde cce eaa ebd ebd\")\n",
      "(Sentence \"bad beb bcc abb aac bbb cad eac bea bab\")\n",
      "(Sentence \"dce bbb eea cdc ceb aae bda dcd abb bec\")\n",
      "(Sentence \"cec bbe bcd baa cbe ada cab ebe adc bbb\")\n",
      "(Sentence \"aae ecc bbb bbc cdd deb bad aaa cac dbd\")\n",
      "(Sentence \"deb aca ddc bae dca cea dec bbb cda dad\")\n",
      "(Sentence \"dbd ebc eea eab bbb dcc cdd cce adb adb\")\n",
      "(Sentence \"acc eaa eec bbb bbe ceb cee cbe bbd ebe\")\n",
      "(Sentence \"aec bce dbd aab bbb cbd daa bab bcb ecc\")\n",
      "(Sentence \"adb bbb cbc caa eac bda eca ada bee dec\")\n",
      "(Sentence \"dec dac ece bbb eca adb ebe ead dbb cec\")\n",
      "(Sentence \"cdd bbb ecd aca ecd dcb dbc bdc bbd dde\")\n",
      "(Sentence \"ccc bbb ecc caa ede eab dde dda aeb abc\")\n",
      "(Sentence \"bea eed eee bbb cbd ecb ccb adc ece cde\")\n",
      "(Sentence \"acd daa dcc abc cbc ebb aea ebe bbb cbe\")\n",
      "(Sentence \"eee aeb bcc cab bbc bab cac bac bbb ddd\")\n",
      "(Sentence \"ddd ead bbb bec dac cec caa ceb cbc aee\")\n",
      "(Sentence \"edc ece cab bce bbb dbc cce ebb cda bab\")\n",
      "(Sentence \"cdd bea cab cce eaa cba bcd bcc ada bbb\")\n",
      "(Sentence \"ddc eec dbc ace cda eba bbb ddc cbc bdb\")\n",
      "(Sentence \"bbb ccb ccb aad ccd dea cea bcd bda aeb\")\n",
      "(Sentence \"bec dce bcc dca abe bcc bbb dee dab cbc\")\n",
      "(Sentence \"adc ccc bae bda cba ebd bbb cda cdc aec\")\n",
      "(Sentence \"ecc eda bcd bbb ecc eca dae bee acb cbc\")\n",
      "(Sentence \"caa ccb ded bda bbb cac ebd cce acd ddc\")\n",
      "(Sentence \"ebc aee edb bac ccc bbb aba acc dcc dbd\")\n",
      "(Sentence \"bde cba acb ebd bbb bbe cba bec ccc cca\")\n",
      "(Sentence \"abc aec eec ddc bbb bcb bcc eed ecc dac\")\n",
      "(Sentence \"bee ecc ece bbb aec dec dce cad ecc ecb\")\n",
      "(Sentence \"bbc cca bbb dba aea eee acc abc cdc ccc\")\n",
      "(Sentence \"abb eae ccc dcb bcc cdd bbb bcd ccd ccc\")\n"
     ]
    }
   ],
   "source": [
    "run('''\n",
    "  !(match \n",
    "        &das \n",
    "        (EVOLUTION \n",
    "                 (!(query) !(correlation-queries) !(correlation-replacements) !(correlation-mappings))\n",
    "                 ((ff $sentence1 \"c\"))) \n",
    "        $sentence1)\n",
    "''')"
   ]
  },
  {
   "cell_type": "markdown",
   "id": "eef3ac14",
   "metadata": {},
   "source": [
    "## Test Fitness Function\n",
    "\n",
    "Calculate the frequency of letter \"c\" in the first and last two sentences.\n"
   ]
  },
  {
   "cell_type": "code",
   "execution_count": 12,
   "id": "8bb0164e-5e87-4240-b8e4-031b8bddc9f4",
   "metadata": {},
   "outputs": [
    {
     "name": "stdout",
     "output_type": "stream",
     "text": [
      "0.06666666666666667\n",
      "0.06666666666666667\n",
      "0.36666666666666664\n",
      "0.43333333333333335\n"
     ]
    }
   ],
   "source": [
    "# First two senteces\n",
    "run('!(ff (Sentence \"cdb bbb dbe eee edc eda bda dae dbb bdb\") \"c\")')\n",
    "run('!(ff (Sentence \"eae daa bdb bae abb cdb bbb dbc ebe eaa\") \"c\")')\n",
    "# Last two sentences\n",
    "run('!(ff (Sentence \"bbc cca bbb dba aea eee acc abc cdc ccc\") \"c\")')\n",
    "run('!(ff (Sentence \"abb eae ccc dcb bcc cdd bbb bcd ccd ccc\") \"c\")')"
   ]
  }
 ],
 "metadata": {
  "kernelspec": {
   "display_name": "Python 3 (ipykernel)",
   "language": "python",
   "name": "python3"
  },
  "language_info": {
   "codemirror_mode": {
    "name": "ipython",
    "version": 3
   },
   "file_extension": ".py",
   "mimetype": "text/x-python",
   "name": "python",
   "nbconvert_exporter": "python",
   "pygments_lexer": "ipython3",
   "version": "3.10.18"
  }
 },
 "nbformat": 4,
 "nbformat_minor": 5
}
