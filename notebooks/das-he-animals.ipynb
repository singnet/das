{
 "cells": [
  {
   "cell_type": "markdown",
   "id": "bc45c946-3d12-4346-a6ae-d91d6c193201",
   "metadata": {},
   "source": [
    "Download the `animals.metta` file and load it to the Databases:"
   ]
  },
  {
   "cell_type": "code",
   "execution_count": 1,
   "id": "8882d701",
   "metadata": {},
   "outputs": [
    {
     "name": "stdout",
     "output_type": "stream",
     "text": [
      "  % Total    % Received % Xferd  Average Speed   Time    Time     Time  Current\n",
      "                                 Dload  Upload   Total   Spent    Left  Speed\n",
      "100  1529  100  1529    0     0   7123      0 --:--:-- --:--:-- --:--:--  7111\n"
     ]
    }
   ],
   "source": [
    "!curl https://raw.githubusercontent.com/singnet/das-toolbox/refs/heads/master/das-cli/src/examples/data/animals.metta -o /tmp/animals.metta"
   ]
  },
  {
   "cell_type": "markdown",
   "id": "70763e3e",
   "metadata": {},
   "source": [
    "You may want to change the path in the cell below to point to another file."
   ]
  },
  {
   "cell_type": "code",
   "execution_count": 2,
   "id": "96c98178",
   "metadata": {},
   "outputs": [
    {
     "name": "stdout",
     "output_type": "stream",
     "text": [
      "\u001b[33mdas-cli-mongodb-40021 is running on port 40021\u001b[0m\n",
      "\u001b[33mdas-cli-redis-40020 is running on port 40020\u001b[0m\n",
      "Loading metta file /tmp/animals.metta...\n",
      "Connecting to Redis at localhost:40020\n",
      "Connecting to MongoDB at localhost:40021\n",
      "Done.\n"
     ]
    }
   ],
   "source": [
    "!das-cli metta load /tmp/animals.metta"
   ]
  },
  {
   "cell_type": "markdown",
   "id": "ae5d4391",
   "metadata": {},
   "source": [
    "You may call `das-cli metta load` multiple times loading different files. To clear the databases you can use `das-cli db restart`."
   ]
  },
  {
   "cell_type": "markdown",
   "id": "51ae1289-a420-475e-a058-85fb11e56366",
   "metadata": {},
   "source": [
    "Let's run some basic queries:"
   ]
  },
  {
   "cell_type": "code",
   "execution_count": 3,
   "id": "27572db7-c5a0-4630-88f4-fd951f30a409",
   "metadata": {},
   "outputs": [],
   "source": [
    "import hyperon\n",
    "\n",
    "metta = hyperon.MeTTa()\n",
    "def run(program='!(+ 1 2)'):\n",
    "    for result in metta.run(program):\n",
    "        print(result)"
   ]
  },
  {
   "cell_type": "code",
   "execution_count": 4,
   "id": "19dd1a88-041b-43a9-8272-dddd4a9bd450",
   "metadata": {},
   "outputs": [
    {
     "name": "stdout",
     "output_type": "stream",
     "text": [
      "[()]\n"
     ]
    }
   ],
   "source": [
    "run('!(import! &self das)')"
   ]
  },
  {
   "cell_type": "code",
   "execution_count": 5,
   "id": "4bcd4bf2-b79d-4419-bb3b-508196bff365",
   "metadata": {},
   "outputs": [
    {
     "name": "stdout",
     "output_type": "stream",
     "text": [
      "[()]\n"
     ]
    }
   ],
   "source": [
    "run('!(bind! &das (new-das! (localhost:55000-55999) (localhost:40002)))')"
   ]
  },
  {
   "cell_type": "markdown",
   "id": "66bdafd0-4053-4e4b-819d-18b99744e753",
   "metadata": {},
   "source": [
    "From now on you can run queries on the `&das` space:"
   ]
  },
  {
   "cell_type": "code",
   "execution_count": 6,
   "id": "cbf000ea-1502-4210-b15b-0289ef7f28cf",
   "metadata": {},
   "outputs": [
    {
     "name": "stdout",
     "output_type": "stream",
     "text": [
      "[(\"chimp\"), (\"ent\"), (\"monkey\")]\n"
     ]
    }
   ],
   "source": [
    "run('!(match &das (Similarity \"human\" $S) ($S))')"
   ]
  },
  {
   "cell_type": "code",
   "execution_count": 7,
   "id": "ddbd9a1f-fad7-41a5-a2f5-a32f6dec953c",
   "metadata": {},
   "outputs": [
    {
     "name": "stdout",
     "output_type": "stream",
     "text": [
      "[(\"ent\")]\n"
     ]
    }
   ],
   "source": [
    "run('!(match &das (and (Similarity \"human\" $S) (Inheritance $S \"plant\")) ($S))')"
   ]
  },
  {
   "cell_type": "code",
   "execution_count": 8,
   "id": "bacd4f8b-9032-494e-afb5-a45d93da320d",
   "metadata": {},
   "outputs": [
    {
     "name": "stdout",
     "output_type": "stream",
     "text": [
      "[(\"chimp\"), (\"ent\"), (\"vine\"), (\"monkey\")]\n"
     ]
    }
   ],
   "source": [
    "run('!(match &das (or (Similarity \"human\" $S) (Inheritance $S \"plant\")) ($S))')"
   ]
  }
 ],
 "metadata": {
  "kernelspec": {
   "display_name": "Python 3 (ipykernel)",
   "language": "python",
   "name": "python3"
  },
  "language_info": {
   "codemirror_mode": {
    "name": "ipython",
    "version": 3
   },
   "file_extension": ".py",
   "mimetype": "text/x-python",
   "name": "python",
   "nbconvert_exporter": "python",
   "pygments_lexer": "ipython3",
   "version": "3.10.18"
  }
 },
 "nbformat": 4,
 "nbformat_minor": 5
}
