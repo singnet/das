{
 "cells": [
  {
   "cell_type": "markdown",
   "id": "85a937b5",
   "metadata": {},
   "source": [
    "## Table of contents\n",
    "\n",
    "* [Install necessary packages](#installpkgs)\n",
    "* [Setup DAS Services](#setup)"
   ]
  },
  {
   "cell_type": "markdown",
   "id": "e0486d34-a766-41b3-8831-8e611a33c4ed",
   "metadata": {},
   "source": [
    "<a id='installpkgs'></a>\n",
    "## Install necessary packages\n",
    "\n",
    "1. (Optional) Create a python virtual environment\n",
    "2. Install `das-cli` (python) package\n",
    "3. Install `hyperon` and `jupyterlab` python package\n",
    "4. Run jupyter lab\n",
    "5. Access the JupyterLab frontend in your browser\n",
    "\n",
    "#### 1. (Optional) Create a python virtual environment\n",
    "```\n",
    "python3 -m venv .venv\n",
    "source .venv/bin/activate\n",
    "```\n",
    "\n",
    "#### 2. Install `das-cli` (python) package\n",
    "For Debian based Linux users:\n",
    "```\n",
    "sudo apt -y update\n",
    "sudo apt -y install wget\n",
    "\n",
    "wget -O - http://45.77.4.33/apt-repo/setup.sh | sudo bash\n",
    "\n",
    "sudo apt -y install das-toolbox\n",
    "\n",
    "# >= 0.5.0\n",
    "das-cli --version\n",
    "```\n",
    "\n",
    "Stay tuned to [this channel](https://chat.singularitynet.io/snet/channels/hyperon-das-library-updates) for new versions of das-cli. We recommend always using the latest available.\n",
    "\n",
    "You can also run `das-cli` from source (other OS):\n",
    "```\n",
    "git clone https://github.com/singnet/das-toolbox.git\n",
    "\n",
    "cd das-toolbox\n",
    "git checkout tags/0.5.0\n",
    "\n",
    "pip install -r das-cli/src/requirements.txt\n",
    "pip install -e das-cli/src/\n",
    "```\n",
    "\n",
    "#### 3. Install hyperon and jupyterlab python package\n",
    "```\n",
    "pip install hyperon jupyterlab\n",
    "```\n",
    "\n",
    "#### 4. Run jupyter lab\n",
    "```\n",
    "jupyter lab --ip=0.0.0.0 --port=8888 --no-browser --allow-root --NotebookApp.token='' --NotebookApp.password=''\n",
    "```\n",
    "\n",
    "#### 5. Access the JupyterLab frontend in your browser:\n",
    "You should be able to access the JupyterLab at:\n",
    "http://127.0.0.1:8888/lab"
   ]
  },
  {
   "cell_type": "markdown",
   "id": "0d7afe6f-1b0b-4c84-b2f8-0fea3e63ec97",
   "metadata": {},
   "source": [
    "<a id='setup'></a>\n",
    "## Setup DAS Services\n",
    "\n",
    "DAS Services can be set up using the [DAS Toolbox](https://github.com/singnet/das-toolbox) following these steps:\n",
    "\n",
    "1. Setup `das-cli`\n",
    "2. Start DB servers\n",
    "3. Load MeTTa knowledge base\n",
    "4. Start Attention Broker Service\n",
    "5. Start Query Agent Service\n",
    "\n",
    "First, you need to install the latest version of `das-cli` in your environment. Follow the instructions in the [toolbox repo](https://github.com/singnet/das-toolbox) to do that.\n",
    "\n",
    "Let's start by setting up the environment, on your terminal run the following command:\n",
    "\n",
    "<span style=\"color:red\">*THE COMMANDS BELOW WILL CREATE FILES IN YOUR FILESYSTEM*</span>.\n",
    "```\n",
    "das-cli config set\n",
    "\n",
    "# NOTE: Be sure to set Attention Broker's port to 37007\n",
    "# For all other prompts, you can just hit ENTER\n",
    "\n",
    ">>>\n",
    "Enter Redis port [40020]: \n",
    "Is it a Redis cluster? [y/N]: \n",
    "Enter MongoDB port [40021]: \n",
    "Enter MongoDB username [admin]: \n",
    "Enter MongoDB password [admin]: \n",
    "Is it a MongoDB cluster? [y/N]: \n",
    "Enter Jupyter Notebook port [40019]: \n",
    "Enter the Attention Broker port [40001]: 37007 <--- HERE\n",
    "Enter the Query Agent port [40002]: \n",
    "Enter the Link Creation Agent Server port [40003]: \n",
    "Enter the Link Creation Agent buffer file [/tmp/requests_buffer.bin]: \n",
    "Enter the Link Creation Agent request interval (in seconds) [1]: \n",
    "Enter the Link Creation Agent thread count [1]: \n",
    "Enter the Link Creation Agent default timeout (in seconds) [10]: \n",
    "Do you want to save links to a Metta file? [Y/n]: \n",
    "Do you want to save links to the database? [Y/n]: \n",
    "Enter the Inference Agent port [40004]: \n",
    "Enter the Evolution agent port [40005]: \n",
    "Configuration file saved -> /home/gontijo/.das\n",
    "```\n",
    "\n",
    "After that check the current configurations by running the following cell:"
   ]
  },
  {
   "cell_type": "code",
   "execution_count": 1,
   "id": "05fd08e3",
   "metadata": {
    "scrolled": true
   },
   "outputs": [
    {
     "name": "stdout",
     "output_type": "stream",
     "text": [
      "+------------------------------+--------------------+-------------------------------------------------------------------------+\n",
      "| Service                      | Name               | Value                                                                   |\n",
      "+------------------------------+--------------------+-------------------------------------------------------------------------+\n",
      "|                              | schema_hash        | 7861d213288eec0b37e95fc770e5407258006ec617589a7a4d1bc8c32b457d0e        |\n",
      "| services.redis               | port               | 40020                                                                   |\n",
      "| services.redis               | container_name     | das-cli-redis-40020                                                     |\n",
      "| services.redis               | cluster            | False                                                                   |\n",
      "| services.redis               | nodes              | [{'context': 'default', 'ip': 'localhost', 'username': 'arturgontijo'}] |\n",
      "| services.mongodb             | port               | 40021                                                                   |\n",
      "| services.mongodb             | container_name     | das-cli-mongodb-40021                                                   |\n",
      "| services.mongodb             | username           | admin                                                                   |\n",
      "| services.mongodb             | password           | admin                                                                   |\n",
      "| services.mongodb             | cluster            | False                                                                   |\n",
      "| services.mongodb             | nodes              | [{'context': 'default', 'ip': 'localhost', 'username': 'arturgontijo'}] |\n",
      "| services.mongodb             | cluster_secret_key | oDzbxFT1m0Z7cyp                                                         |\n",
      "| services.loader              | container_name     | das-cli-loader                                                          |\n",
      "| services.das_peer            | container_name     | das-cli-das-peer-40018                                                  |\n",
      "| services.das_peer            | port               | 40018                                                                   |\n",
      "| services.dbms_peer           | container_name     | das-cli-dbms-peer                                                       |\n",
      "| services.jupyter_notebook    | port               | 40019                                                                   |\n",
      "| services.jupyter_notebook    | container_name     | das-cli-jupyter-notebook-40019                                          |\n",
      "| services.attention_broker    | port               | 37007                                                                   |\n",
      "| services.attention_broker    | container_name     | das-cli-attention-broker-37007                                          |\n",
      "| services.query_agent         | port               | 40002                                                                   |\n",
      "| services.query_agent         | container_name     | das-cli-query-agent-40002                                               |\n",
      "| services.link_creation_agent | container_name     | das-cli-link-creation-agent-40003                                       |\n",
      "| services.link_creation_agent | port               | 40003                                                                   |\n",
      "| services.inference_agent     | port               | 40004                                                                   |\n",
      "| services.inference_agent     | container_name     | das-cli-inference-agent-40004                                           |\n",
      "| services.evolution_agent     | port               | 40005                                                                   |\n",
      "| services.evolution_agent     | container_name     | das-cli-evolution-agent-40005                                           |\n",
      "+------------------------------+--------------------+-------------------------------------------------------------------------+\n"
     ]
    }
   ],
   "source": [
    "!das-cli config list"
   ]
  },
  {
   "cell_type": "markdown",
   "id": "cedeebcb",
   "metadata": {},
   "source": [
    "Containers for the DBMS servers will be created listening on the given ports. Run the next cell to make sure any previously used containers are properly removed. If there are none, nothing will be done."
   ]
  },
  {
   "cell_type": "code",
   "execution_count": 2,
   "id": "1f1680bf",
   "metadata": {},
   "outputs": [
    {
     "name": "stdout",
     "output_type": "stream",
     "text": [
      "Stopping Redis service...\n",
      "\u001b[33mThe Redis service named das-cli-redis-40020 at localhost is already stopped.\u001b[0m\n",
      "Stopping MongoDB service...\n",
      "\u001b[33mThe MongoDB service named das-cli-mongodb-40021 at localhost is already stopped.\u001b[0m\n"
     ]
    }
   ],
   "source": [
    "!das-cli db stop"
   ]
  },
  {
   "cell_type": "markdown",
   "id": "57a8fc46",
   "metadata": {},
   "source": [
    "Now we need to start the DBMS servers."
   ]
  },
  {
   "cell_type": "code",
   "execution_count": 3,
   "id": "dbda39b9",
   "metadata": {},
   "outputs": [
    {
     "name": "stdout",
     "output_type": "stream",
     "text": [
      "Starting Redis service...\n",
      "\u001b[32mRedis has started successfully on port 40020 at localhost, operating under the server user arturgontijo.\u001b[0m\n",
      "Starting MongoDB service...\n",
      "\u001b[32mMongoDB has started successfully on port 40021 at localhost, operating under the server user arturgontijo.\u001b[0m\n"
     ]
    }
   ],
   "source": [
    "!das-cli db start"
   ]
  },
  {
   "cell_type": "markdown",
   "id": "9f2157ae",
   "metadata": {},
   "source": [
    "You can double check that the DB containers are in place listing the active docker containers."
   ]
  },
  {
   "cell_type": "code",
   "execution_count": 4,
   "id": "ee2f8db7",
   "metadata": {},
   "outputs": [
    {
     "name": "stdout",
     "output_type": "stream",
     "text": [
      "CONTAINER ID   IMAGE                COMMAND                  CREATED          STATUS                    PORTS                                                                                              NAMES\n",
      "d4581d7c6a68   mongo:6.0.13-jammy   \"docker-entrypoint.s…\"   35 seconds ago   Up 35 seconds (healthy)   0.0.0.0:40021->27017/tcp, [::]:40021->27017/tcp                                                    das-cli-mongodb-40021\n",
      "074008b9e65a   redis:7.2.3-alpine   \"docker-entrypoint.s…\"   35 seconds ago   Up 35 seconds             0.0.0.0:40020->40020/tcp, [::]:40020->40020/tcp, 0.0.0.0:50020->50020/tcp, [::]:50020->50020/tcp   das-cli-redis-40020\n"
     ]
    }
   ],
   "source": [
    "!docker ps"
   ]
  },
  {
   "cell_type": "markdown",
   "id": "3b9821f2",
   "metadata": {},
   "source": [
    "You should see containers for Redis and MongoDB listening on the ports you defined in the config file."
   ]
  },
  {
   "cell_type": "markdown",
   "id": "872d71ac-4a65-47bd-bf8a-fbdf1826c7ae",
   "metadata": {},
   "source": [
    "Start Attention Broker service:"
   ]
  },
  {
   "cell_type": "code",
   "execution_count": 5,
   "id": "4da589ab-d156-44f3-819b-a1d26fd9555b",
   "metadata": {},
   "outputs": [
    {
     "name": "stdout",
     "output_type": "stream",
     "text": [
      "Starting Attention Broker service...\n",
      "\u001b[32mAttention Broker started on port 37007\u001b[0m\n"
     ]
    }
   ],
   "source": [
    "!das-cli ab start"
   ]
  },
  {
   "cell_type": "markdown",
   "id": "9dd01a51-5c91-4def-9bb2-0cc23f1263e1",
   "metadata": {},
   "source": [
    "Start Query Agent:"
   ]
  },
  {
   "cell_type": "code",
   "execution_count": 6,
   "id": "76a74098-c9d9-43fe-945f-b9fe9ac5e179",
   "metadata": {},
   "outputs": [
    {
     "name": "stdout",
     "output_type": "stream",
     "text": [
      "Starting Query Agent service...\n",
      "\u001b[32mQuery Agent started on port 40002\u001b[0m\n"
     ]
    }
   ],
   "source": [
    "!das-cli qa start"
   ]
  },
  {
   "cell_type": "markdown",
   "id": "28773875-32b3-43b7-aaeb-93b3c938c25d",
   "metadata": {},
   "source": [
    "Start Evolution Agent:"
   ]
  },
  {
   "cell_type": "code",
   "execution_count": 7,
   "id": "b1ec4436-a5e4-4395-90f0-0491a182fc55",
   "metadata": {},
   "outputs": [
    {
     "name": "stdout",
     "output_type": "stream",
     "text": [
      "Starting Evolution Agent service...\n",
      "\u001b[32mEvolution Agent started on port 40005\u001b[0m\n"
     ]
    }
   ],
   "source": [
    "!das-cli evolution start"
   ]
  },
  {
   "cell_type": "markdown",
   "id": "62995532-c825-456c-8ee4-478c5247079c",
   "metadata": {},
   "source": [
    "Start Inference Agent:"
   ]
  },
  {
   "cell_type": "code",
   "execution_count": 9,
   "id": "f7245fe3-81fa-405f-88ef-93b9e26c0993",
   "metadata": {},
   "outputs": [
    {
     "name": "stdout",
     "output_type": "stream",
     "text": [
      "Enter peer hostname (e.g., 192.168.1.100): ^C\n",
      "Aborted!\n"
     ]
    }
   ],
   "source": [
    "!das-cli inference start"
   ]
  },
  {
   "cell_type": "markdown",
   "id": "d4f750a3-5eea-491c-95d2-8ce04d9d7a4c",
   "metadata": {},
   "source": [
    "Start Link Creation Agent:"
   ]
  },
  {
   "cell_type": "code",
   "execution_count": 10,
   "id": "de46e8d7-7d1e-43b1-8fc6-171b1d1602b6",
   "metadata": {},
   "outputs": [
    {
     "name": "stdout",
     "output_type": "stream",
     "text": [
      "Enter peer hostname (e.g., 192.168.1.100): ^C\n",
      "Aborted!\n"
     ]
    }
   ],
   "source": [
    "!das-cli lca start"
   ]
  },
  {
   "cell_type": "markdown",
   "id": "1396422b-2c2a-4023-b4a4-0607f1c74f16",
   "metadata": {},
   "source": [
    "Once you are done, stop all services (removing their containers):"
   ]
  },
  {
   "cell_type": "code",
   "execution_count": null,
   "id": "c019d9c8-5c2e-4269-9dfb-58e84df242ac",
   "metadata": {},
   "outputs": [],
   "source": [
    "!das-cli lca stop\n",
    "!das-cli inference stop\n",
    "!das-cli evolution stop\n",
    "!das-cli qa stop\n",
    "!das-cli ab stop\n",
    "!das-cli db stop"
   ]
  }
 ],
 "metadata": {
  "kernelspec": {
   "display_name": "Python 3 (ipykernel)",
   "language": "python",
   "name": "python3"
  },
  "language_info": {
   "codemirror_mode": {
    "name": "ipython",
    "version": 3
   },
   "file_extension": ".py",
   "mimetype": "text/x-python",
   "name": "python",
   "nbconvert_exporter": "python",
   "pygments_lexer": "ipython3",
   "version": "3.10.18"
  }
 },
 "nbformat": 4,
 "nbformat_minor": 5
}
