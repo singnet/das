{
 "cells": [
  {
   "cell_type": "markdown",
   "id": "b016a9b4",
   "metadata": {},
   "source": [
    "# DAS Pattern Matching Queries - Animals Dataset\n",
    "\n",
    "This notebook demonstrates how to use `hyperon-experimental` with the Distributed Atomspace (DAS) to perform pattern matching queries. We use a [simple animals knowledge base](https://raw.githubusercontent.com/singnet/das/refs/heads/master/src/tests/integration/cpp/data/animal_expressions.metta) as example."
   ]
  },
  {
   "cell_type": "markdown",
   "id": "d98b8cce",
   "metadata": {},
   "source": [
    "## Setup\n",
    "\n",
    "Initialize `hyperon` MeTTa environment and create a helper function to run MeTTa programs.\n"
   ]
  },
  {
   "cell_type": "code",
   "execution_count": 1,
   "id": "20193ff4-fe9e-4d37-9ff2-2f93564312fb",
   "metadata": {},
   "outputs": [],
   "source": [
    "import hyperon\n",
    "\n",
    "metta = hyperon.MeTTa()\n",
    "def run(program='!(+ 1 2)'):\n",
    "    for result in metta.run(program):\n",
    "        for child in result:\n",
    "            print(child)"
   ]
  },
  {
   "cell_type": "markdown",
   "id": "0171c8e0",
   "metadata": {},
   "source": [
    "## Import DAS Module\n",
    "\n",
    "Import the DAS module into the MeTTa environment.\n"
   ]
  },
  {
   "cell_type": "code",
   "execution_count": 2,
   "id": "37cd081b-95d7-40df-a7f1-c9068e246f28",
   "metadata": {},
   "outputs": [
    {
     "name": "stdout",
     "output_type": "stream",
     "text": [
      "()\n"
     ]
    }
   ],
   "source": [
    "run('!(import! &self das)')"
   ]
  },
  {
   "cell_type": "markdown",
   "id": "99f51561",
   "metadata": {},
   "source": [
    "## Connect to DAS\n",
    "\n",
    "Bind a DAS connection to `&das` space. The first parameter specifies a client's host and port range (47000-47999) and the second must be a known peer address (eg. Query Agent at localhost:40002).\n"
   ]
  },
  {
   "cell_type": "code",
   "execution_count": 3,
   "id": "e2b006e5-aa96-43c6-b6ad-a2643ade6647",
   "metadata": {},
   "outputs": [
    {
     "name": "stdout",
     "output_type": "stream",
     "text": [
      "()\n"
     ]
    }
   ],
   "source": [
    "run('!(bind! &das (new-das! (localhost:47000-47999) (localhost:40002)))')"
   ]
  },
  {
   "cell_type": "markdown",
   "id": "f791ae53",
   "metadata": {},
   "source": [
    "## Query 1: Simple Pattern Match\n",
    "\n",
    "Find all evaluations in the knowledge base. Variables `$P` (predicate) and `$C` (concept) will match any predicate and concept.\n"
   ]
  },
  {
   "cell_type": "code",
   "execution_count": 4,
   "id": "485ddad9-dcd1-4540-b033-d5f8d563209e",
   "metadata": {},
   "outputs": [
    {
     "name": "stdout",
     "output_type": "stream",
     "text": [
      "(EVALUATION (PREDICATE \"four_legs\") (CONCEPT \"rhino\"))\n",
      "(EVALUATION (PREDICATE \"is_animal\") (CONCEPT \"rhino\"))\n",
      "(EVALUATION (PREDICATE \"has_horns\") (CONCEPT \"triceratops\"))\n",
      "(EVALUATION (PREDICATE \"is_animal\") (CONCEPT \"chimp\"))\n",
      "(EVALUATION (PREDICATE \"is_animal\") (CONCEPT \"earthworm\"))\n",
      "(EVALUATION (PREDICATE \"is_reptile\") (CONCEPT \"snake\"))\n",
      "(EVALUATION (PREDICATE \"is_reptile\") (CONCEPT \"triceratops\"))\n",
      "(EVALUATION (PREDICATE \"is_dinosaur\") (CONCEPT \"snake\"))\n",
      "(EVALUATION (PREDICATE \"is_animal\") (CONCEPT \"human\"))\n",
      "(EVALUATION (PREDICATE \"is_dinosaur\") (CONCEPT \"triceratops\"))\n",
      "(EVALUATION (PREDICATE \"four_legs\") (CONCEPT \"triceratops\"))\n",
      "(EVALUATION (PREDICATE \"is_animal\") (CONCEPT \"monkey\"))\n",
      "(EVALUATION (PREDICATE \"is_plant\") (CONCEPT \"vine\"))\n",
      "(EVALUATION (PREDICATE \"two_legs\") (CONCEPT \"monkey\"))\n",
      "(EVALUATION (PREDICATE \"no_legs\") (CONCEPT \"earthworm\"))\n",
      "(EVALUATION (PREDICATE \"is_mammal\") (CONCEPT \"human\"))\n",
      "(EVALUATION (PREDICATE \"is_mammal\") (CONCEPT \"rhino\"))\n",
      "(EVALUATION (PREDICATE \"is_plant\") (CONCEPT \"ent\"))\n",
      "(EVALUATION (PREDICATE \"two_legs\") (CONCEPT \"human\"))\n",
      "(EVALUATION (PREDICATE \"is_mammal\") (CONCEPT \"chimp\"))\n",
      "(EVALUATION (PREDICATE \"is_animal\") (CONCEPT \"ent\"))\n",
      "(EVALUATION (PREDICATE \"is_animal\") (CONCEPT \"triceratops\"))\n",
      "(EVALUATION (PREDICATE \"is_mammal\") (CONCEPT \"monkey\"))\n",
      "(EVALUATION (PREDICATE \"is_animal\") (CONCEPT \"snake\"))\n",
      "(EVALUATION (PREDICATE \"has_horns\") (CONCEPT \"rhino\"))\n",
      "(EVALUATION (PREDICATE \"two_legs\") (CONCEPT \"chimp\"))\n"
     ]
    }
   ],
   "source": [
    "run('!(match &das (EVALUATION $P $C) (EVALUATION $P $C))')"
   ]
  },
  {
   "cell_type": "markdown",
   "id": "6dbd2b72",
   "metadata": {},
   "source": [
    "## Query 2: OR Pattern\n",
    "\n",
    "Find concepts that are either animals OR have two legs. This demonstrates disjunctive queries.\n"
   ]
  },
  {
   "cell_type": "code",
   "execution_count": 5,
   "id": "c9247933-4e9b-43e7-8761-182fcaef9930",
   "metadata": {},
   "outputs": [
    {
     "name": "stdout",
     "output_type": "stream",
     "text": [
      "\"human\"\n",
      "\"monkey\"\n",
      "\"snake\"\n",
      "\"chimp\"\n",
      "\"ent\"\n",
      "\"triceratops\"\n",
      "\"earthworm\"\n",
      "\"rhino\"\n"
     ]
    }
   ],
   "source": [
    "run('!(match &das (or (EVALUATION (PREDICATE \"is_animal\") (CONCEPT $C)) (EVALUATION (PREDICATE \"two_legs\") (CONCEPT $C))) $C)')"
   ]
  },
  {
   "cell_type": "markdown",
   "id": "9dcea935",
   "metadata": {},
   "source": [
    "## Query 3: AND Pattern\n",
    "\n",
    "Find concepts that are both animals AND plants. This query should return no results as nothing can be both.\n"
   ]
  },
  {
   "cell_type": "code",
   "execution_count": 6,
   "id": "0ceb08c8-f8a0-4935-ae4e-573062f92bc8",
   "metadata": {},
   "outputs": [
    {
     "name": "stdout",
     "output_type": "stream",
     "text": [
      "\"ent\"\n"
     ]
    }
   ],
   "source": [
    "run('!(match &das (and (EVALUATION (PREDICATE \"is_animal\") (CONCEPT $C)) (EVALUATION (PREDICATE \"is_plant\") (CONCEPT $C))) $C)')"
   ]
  },
  {
   "cell_type": "markdown",
   "id": "a3815dad",
   "metadata": {},
   "source": [
    "## Query 4: Nested AND Pattern\n",
    "\n",
    "Complex nested query to find concepts that are: animals AND reptiles AND dinosaurs AND have horns AND have four legs. Should match triceratops.\n"
   ]
  },
  {
   "cell_type": "code",
   "execution_count": 7,
   "id": "b55dac20-ee15-43e6-9521-7cc3d71f2967",
   "metadata": {},
   "outputs": [
    {
     "name": "stdout",
     "output_type": "stream",
     "text": [
      "\"triceratops\"\n"
     ]
    }
   ],
   "source": [
    "run('''\n",
    "  !(match &das \n",
    "    (and\n",
    "        (and \n",
    "            (EVALUATION (PREDICATE \"is_animal\") (CONCEPT $C)) \n",
    "            (EVALUATION (PREDICATE \"is_reptile\") (CONCEPT $C))\n",
    "        )\n",
    "        (and\n",
    "            (EVALUATION (PREDICATE \"is_dinosaur\") (CONCEPT $C))\n",
    "            (and\n",
    "                (EVALUATION (PREDICATE \"has_horns\") (CONCEPT $C))\n",
    "                (EVALUATION (PREDICATE \"four_legs\") (CONCEPT $C))\n",
    "            )\n",
    "        )\n",
    "    )\n",
    "    $C\n",
    "  )\n",
    "''')"
   ]
  },
  {
   "cell_type": "markdown",
   "id": "08970244",
   "metadata": {},
   "source": [
    "## Query 5: Reverse Lookup\n",
    "\n",
    "Find all predicates that apply to a specific concept (triceratops). This shows all properties of triceratops.\n"
   ]
  },
  {
   "cell_type": "code",
   "execution_count": 8,
   "id": "2ed4a547-0ec4-471b-8990-72fffad87e9f",
   "metadata": {},
   "outputs": [
    {
     "name": "stdout",
     "output_type": "stream",
     "text": [
      "\"has_horns\"\n",
      "\"is_dinosaur\"\n",
      "\"is_animal\"\n",
      "\"four_legs\"\n",
      "\"is_reptile\"\n"
     ]
    }
   ],
   "source": [
    "run('!(match &das (EVALUATION (PREDICATE $P) (CONCEPT \"triceratops\")) $P)')"
   ]
  },
  {
   "cell_type": "markdown",
   "id": "79808504",
   "metadata": {},
   "source": [
    "## Query 6: Find Plants\n",
    "\n",
    "Find all concepts that are classified as plants.\n"
   ]
  },
  {
   "cell_type": "code",
   "execution_count": 9,
   "id": "9df75ab7-9397-474b-8d80-90befd8f42f0",
   "metadata": {},
   "outputs": [
    {
     "name": "stdout",
     "output_type": "stream",
     "text": [
      "\"vine\"\n",
      "\"ent\"\n"
     ]
    }
   ],
   "source": [
    "run('!(match &das (EVALUATION (PREDICATE \"is_plant\") (CONCEPT $C)) $C)')"
   ]
  },
  {
   "cell_type": "markdown",
   "id": "45b33341",
   "metadata": {},
   "source": [
    "## Query 7: Find Four-Legged Animals\n",
    "\n",
    "Find all concepts that have the property \"four_legs\".\n"
   ]
  },
  {
   "cell_type": "code",
   "execution_count": 10,
   "id": "6fbf2562-8b6f-4051-b3ce-ca244d9256c4",
   "metadata": {},
   "outputs": [
    {
     "name": "stdout",
     "output_type": "stream",
     "text": [
      "\"triceratops\"\n",
      "\"rhino\"\n"
     ]
    }
   ],
   "source": [
    "run('!(match &das (EVALUATION (PREDICATE \"four_legs\") (CONCEPT $C)) $C)')"
   ]
  },
  {
   "cell_type": "markdown",
   "id": "f6d603e1",
   "metadata": {},
   "source": [
    "## Query 8: OR Pattern - Plants or Four-Legged\n",
    "\n",
    "Find concepts that are either plants OR have four legs. Demonstrates combining different types of properties.\n"
   ]
  },
  {
   "cell_type": "code",
   "execution_count": 11,
   "id": "34f1a5c3-3818-4345-8b61-d01b900cd4b8",
   "metadata": {},
   "outputs": [
    {
     "name": "stdout",
     "output_type": "stream",
     "text": [
      "\"vine\"\n",
      "\"triceratops\"\n",
      "\"ent\"\n",
      "\"rhino\"\n"
     ]
    }
   ],
   "source": [
    "run('!(match &das (or (EVALUATION (PREDICATE \"is_plant\") (CONCEPT $C)) (EVALUATION (PREDICATE \"four_legs\") (CONCEPT $C))) $C)')"
   ]
  }
 ],
 "metadata": {
  "kernelspec": {
   "display_name": "Python 3 (ipykernel)",
   "language": "python",
   "name": "python3"
  },
  "language_info": {
   "codemirror_mode": {
    "name": "ipython",
    "version": 3
   },
   "file_extension": ".py",
   "mimetype": "text/x-python",
   "name": "python",
   "nbconvert_exporter": "python",
   "pygments_lexer": "ipython3",
   "version": "3.12.4"
  }
 },
 "nbformat": 4,
 "nbformat_minor": 5
}
